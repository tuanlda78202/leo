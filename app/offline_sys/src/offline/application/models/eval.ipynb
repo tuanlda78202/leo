{
 "cells": [
  {
   "cell_type": "code",
   "execution_count": 1,
   "id": "8bfa7fcf",
   "metadata": {},
   "outputs": [],
   "source": [
    "dataset_name = \"tuanlda78202/leo_summarization_task\"\n",
    "model_name = \"tuanlda78202/Qwen3-1.7B-Leo-Summarization\"\n",
    "\n",
    "max_evaluation_samples = 8"
   ]
  },
  {
   "cell_type": "code",
   "execution_count": null,
   "id": "66fd0c5f",
   "metadata": {},
   "outputs": [],
   "source": [
    "from vllm import LLM\n",
    "\n",
    "llm = LLM(\n",
    "    model=model_name,\n",
    "    max_model_len=4096,\n",
    "    dtype=\"float16\",\n",
    "    quantization=\"bitsandbytes\",\n",
    "    load_format=\"bitsandbytes\",\n",
    ")"
   ]
  },
  {
   "cell_type": "code",
   "execution_count": null,
   "id": "bc31a053",
   "metadata": {},
   "outputs": [],
   "source": [
    "from datasets import load_dataset\n",
    "\n",
    "alpaca_prompt = \"\"\"Below is an instruction that describes a task, paired with an input that provides further context. Write a response that appropriately completes the request.\n",
    "\n",
    "### Instruction:\n",
    "You are a helpful assistant specialized in summarizing documents. Generate a concise TL;DR summary in markdown format having a maximum of 512 characters of the key findings from the provided documents, highlighting the most significant insights\n",
    "\n",
    "### Input:\n",
    "{}\n",
    "\n",
    "### Response:\n",
    "{}\"\"\"\n",
    "\n",
    "\n",
    "def format_sample(sample: dict) -> str:\n",
    "    return alpaca_prompt.format(sample[\"instruction\"], \"\")"
   ]
  },
  {
   "cell_type": "code",
   "execution_count": null,
   "id": "b45818dc",
   "metadata": {},
   "outputs": [],
   "source": [
    "dataset = load_dataset(dataset_name, split=\"test\")\n",
    "dataset = dataset.select(range(max_evaluation_samples))\n",
    "\n",
    "dataset = dataset.map(lambda sample: {\"prompt\": format_sample(sample)})"
   ]
  },
  {
   "cell_type": "code",
   "execution_count": null,
   "id": "39224591",
   "metadata": {},
   "outputs": [],
   "source": [
    "from vllm import SamplingParams\n",
    "\n",
    "sampling_params = SamplingParams(\n",
    "    temperature=0.0, top_p=0.95, min_p=0.05, max_tokens=4096\n",
    ")\n",
    "predictions = llm.generate(dataset[\"prompt\"], sampling_params)"
   ]
  },
  {
   "cell_type": "code",
   "execution_count": null,
   "id": "83f7d0d6",
   "metadata": {},
   "outputs": [],
   "source": [
    "predictions[0].outputs[0].text"
   ]
  },
  {
   "cell_type": "code",
   "execution_count": null,
   "id": "83b39d1f",
   "metadata": {},
   "outputs": [],
   "source": [
    "answers = [prediction.outputs[0].text for prediction in predictions]\n",
    "answers[0]"
   ]
  },
  {
   "cell_type": "markdown",
   "id": "5d52a28c",
   "metadata": {},
   "source": [
    "## Eval metrics"
   ]
  },
  {
   "cell_type": "code",
   "execution_count": null,
   "id": "fa6168f1",
   "metadata": {},
   "outputs": [],
   "source": [
    "import evaluate\n",
    "import numpy as np\n",
    "\n",
    "rouge = evaluate.load(\"rouge\")\n",
    "\n",
    "\n",
    "def compute_metrics(predictions: list[str], references: list[str]):\n",
    "    result = rouge.compute(\n",
    "        predictions=predictions, references=references, use_stemmer=True\n",
    "    )\n",
    "    result[\"mean_len\"] = np.mean([len(p) for p in predictions])\n",
    "\n",
    "    return {k: round(v, 4) for k, v in result.items()}"
   ]
  },
  {
   "cell_type": "code",
   "execution_count": null,
   "id": "9d814921",
   "metadata": {},
   "outputs": [],
   "source": [
    "references = dataset[\"answer\"]\n",
    "references[0]"
   ]
  },
  {
   "cell_type": "code",
   "execution_count": null,
   "id": "b446c663",
   "metadata": {},
   "outputs": [],
   "source": [
    "validation_metrics = compute_metrics(answers, references)\n",
    "print(validation_metrics)"
   ]
  }
 ],
 "metadata": {
  "kernelspec": {
   "display_name": "offline-sys",
   "language": "python",
   "name": "python3"
  },
  "language_info": {
   "codemirror_mode": {
    "name": "ipython",
    "version": 3
   },
   "file_extension": ".py",
   "mimetype": "text/x-python",
   "name": "python",
   "nbconvert_exporter": "python",
   "pygments_lexer": "ipython3",
   "version": "3.12.8"
  }
 },
 "nbformat": 4,
 "nbformat_minor": 5
}
