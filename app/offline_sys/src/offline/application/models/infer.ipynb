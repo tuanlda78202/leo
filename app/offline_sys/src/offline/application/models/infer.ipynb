{
 "cells": [
  {
   "cell_type": "code",
   "execution_count": null,
   "id": "dd6eadfd",
   "metadata": {},
   "outputs": [],
   "source": [
    "dataset_name = \"tuanlda78202/leo_summarization_task\"\n",
    "model_name = \"tuanlda78202/Qwen3-1.7B-Leo-Summarization\""
   ]
  },
  {
   "cell_type": "code",
   "execution_count": null,
   "id": "7e7343f8",
   "metadata": {},
   "outputs": [],
   "source": [
    "from unsloth import FastLanguageModel\n",
    "\n",
    "model, tokenizer = FastLanguageModel.from_pretrained(\n",
    "    model_name=model_name,\n",
    "    max_seq_length=40960,\n",
    "    load_in_4bit=True,\n",
    ")\n",
    "FastLanguageModel.for_inference(model)"
   ]
  },
  {
   "cell_type": "code",
   "execution_count": null,
   "id": "fccc4511",
   "metadata": {},
   "outputs": [],
   "source": [
    "from datasets import load_dataset\n",
    "\n",
    "dataset = load_dataset(dataset_name, split=\"test\")"
   ]
  },
  {
   "cell_type": "code",
   "execution_count": null,
   "id": "93542646",
   "metadata": {},
   "outputs": [],
   "source": [
    "alpaca_prompt = \"\"\"Below is an instruction that describes a task, paired with an input that provides further context. Write a response that appropriately completes the request.\n",
    "\n",
    "### Instruction:\n",
    "You are a helpful assistant specialized in summarizing documents. Generate a concise TL;DR summary in markdown format having a maximum of 512 characters of the key findings from the provided documents, highlighting the most significant insights\n",
    "\n",
    "### Input:\n",
    "{}\n",
    "\n",
    "### Response:\n",
    "{}\"\"\""
   ]
  },
  {
   "cell_type": "code",
   "execution_count": null,
   "id": "886adfec",
   "metadata": {},
   "outputs": [],
   "source": [
    "from transformers import TextStreamer\n",
    "\n",
    "text_streamer = TextStreamer(tokenizer)\n",
    "\n",
    "\n",
    "def generate_text(\n",
    "    instruction, streaming: bool = True, trim_input_message: bool = False\n",
    "):\n",
    "    message = alpaca_prompt.format(\n",
    "        instruction,\n",
    "        \"\",\n",
    "    )\n",
    "    inputs = tokenizer([message], return_tensors=\"pt\").to(\"cuda\")\n",
    "\n",
    "    if streaming:\n",
    "        return model.generate(\n",
    "            **inputs, streamer=text_streamer, max_new_tokens=256, use_cache=True\n",
    "        )\n",
    "    else:\n",
    "        output_tokens = model.generate(**inputs, max_new_tokens=256, use_cache=True)\n",
    "        output = tokenizer.batch_decode(output_tokens, skip_special_tokens=True)[0]\n",
    "\n",
    "        if trim_input_message:\n",
    "            return output[len(message) :]\n",
    "        else:\n",
    "            return output"
   ]
  },
  {
   "cell_type": "code",
   "execution_count": null,
   "id": "6e8a3da5",
   "metadata": {},
   "outputs": [],
   "source": [
    "_ = generate_text(dataset[11][\"instruction\"], streaming=True)"
   ]
  }
 ],
 "metadata": {
  "kernelspec": {
   "display_name": "offline-sys",
   "language": "python",
   "name": "python3"
  },
  "language_info": {
   "codemirror_mode": {
    "name": "ipython",
    "version": 3
   },
   "file_extension": ".py",
   "mimetype": "text/x-python",
   "name": "python",
   "nbconvert_exporter": "python",
   "pygments_lexer": "ipython3",
   "version": "3.12.8"
  }
 },
 "nbformat": 4,
 "nbformat_minor": 5
}
